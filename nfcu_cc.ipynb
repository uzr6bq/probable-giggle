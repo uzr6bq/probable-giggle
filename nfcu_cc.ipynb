{
 "cells": [
  {
   "cell_type": "code",
   "execution_count": null,
   "id": "63ec6be8",
   "metadata": {},
   "outputs": [],
   "source": [
    "# !pip install xgboost\n",
    "# !pip install hyperopt\n",
    "# !pip install feature-engine\n",
    "# !pip install mljar-supervised\n",
    "# !pip install imblearn"
   ]
  },
  {
   "cell_type": "code",
   "execution_count": 240,
   "id": "a39cb5a4",
   "metadata": {},
   "outputs": [],
   "source": [
    "import numpy as np\n",
    "import pandas as pd\n",
    "\n",
    "import xgboost as xgb\n",
    "from sklearn import tree # Tree function is used for visualizing decision tree\n",
    "from sklearn.metrics import * # Importing function that can be used to calculate different metrics\n",
    "from sklearn.tree import DecisionTreeClassifier # Importing Decision Tree Classifier \n",
    "from sklearn.ensemble import RandomForestClassifier  # Importing Random Forest Classifier \n",
    "from sklearn.model_selection import train_test_split # Importing function that can split a dataset into training and testing set\n",
    "from sklearn.preprocessing import LabelEncoder, MinMaxScaler, StandardScaler # Importing function for scaling the data\n",
    "from sklearn.ensemble import StackingClassifier, GradientBoostingClassifier, VotingClassifier\n",
    "from sklearn.model_selection import GridSearchCV # Importing GridSearchCV\n",
    "from sklearn.pipeline import make_pipeline\n",
    "from sklearn.neighbors import KNeighborsClassifier\n",
    "from sklearn.linear_model import LogisticRegression\n",
    "from xgboost import XGBClassifier # Importing the XGBoost Classifier \n",
    "import matplotlib.pyplot as plt # Importing the package for plotting\n",
    "plt.style.use('fivethirtyeight') # Use the styling from FiveThirtyEight Website\n",
    "import seaborn as sns # Importing another package for plotting\n",
    "from xgboost import plot_importance\n",
    "import imblearn\n",
    "from sklearn.metrics import plot_roc_curve\n",
    "\n",
    "from custom_functions import plot_conf_mat, plot_roc_curve, plot_feature_importance, calculateMetricsAndPrint"
   ]
  },
  {
   "cell_type": "markdown",
   "id": "81b9067b",
   "metadata": {},
   "source": [
    "### dataframes that can be used"
   ]
  },
  {
   "cell_type": "code",
   "execution_count": 2,
   "id": "7f815fe9",
   "metadata": {},
   "outputs": [],
   "source": [
    "# df\n",
    "# df_clean\n",
    "# df_top_promos\n",
    "# df_onlypromo\n",
    "# df_nopromo"
   ]
  },
  {
   "cell_type": "markdown",
   "id": "70df6d51",
   "metadata": {},
   "source": [
    "### Load and Clean Data"
   ]
  },
  {
   "cell_type": "code",
   "execution_count": 229,
   "id": "203da01e",
   "metadata": {},
   "outputs": [],
   "source": [
    "path = \"/Users/cantr/Documents/NFCU Job Interview/nfcu_cc.csv\"\n",
    "df = pd.read_csv(path)"
   ]
  },
  {
   "cell_type": "code",
   "execution_count": 4,
   "id": "12ad0505",
   "metadata": {},
   "outputs": [],
   "source": [
    "def summarize_dataframe(df):\n",
    "    \"\"\"Summarize a dataframe, and report missing values.\"\"\"\n",
    "    missing_values = pd.concat([pd.DataFrame(df.columns, columns=['Variable Name']), \n",
    "                      pd.DataFrame(df.dtypes.values.reshape([-1,1]), columns=['Data Type']),\n",
    "                      pd.DataFrame(df.isnull().sum().values, columns=['Missing Values']), \n",
    "                      pd.DataFrame([df[name].nunique() for name in df.columns], columns=['Unique Values'])], \n",
    "                     axis=1).set_index('Variable Name')\n",
    "    with pd.option_context(\"display.max_rows\", 1000):\n",
    "        display(pd.concat([missing_values, df.describe(include='all').transpose()], axis=1).fillna(\"\"))\n",
    "        \n",
    "PLOT_FONT_SIZE = 12    #font size for axis of plots\n",
    "\n",
    "#define helper function for confusion matrix\n",
    "\n",
    "def displayConfusionMatrix(confusionMatrix):\n",
    "    \"\"\"Confusion matrix plot\"\"\"\n",
    "    \n",
    "    confusionMatrix = np.transpose(confusionMatrix)\n",
    "    \n",
    "    ## calculate class level precision and recall from confusion matrix\n",
    "    precisionLow = round((confusionMatrix[0][0] / (confusionMatrix[0][0] + confusionMatrix[0][1]))*100, 1)\n",
    "    precisionHigh = round((confusionMatrix[1][1] / (confusionMatrix[1][0] + confusionMatrix[1][1]))*100, 1)\n",
    "    recallLow = round((confusionMatrix[0][0] / (confusionMatrix[0][0] + confusionMatrix[1][0]))*100, 1)\n",
    "    recallHigh = round((confusionMatrix[1][1] / (confusionMatrix[0][1] + confusionMatrix[1][1]))*100, 1)\n",
    "\n",
    "    ## show heatmap\n",
    "    plt.imshow(confusionMatrix, interpolation='nearest',cmap=plt.cm.Blues,vmin=0, vmax=1000)\n",
    "    \n",
    "    ## axis labeling\n",
    "    xticks = np.array([-0.5, 0, 1,1.5])\n",
    "    plt.gca().set_xticks(xticks)\n",
    "    plt.gca().set_yticks(xticks)\n",
    "    plt.gca().set_xticklabels([\"\",\"Class no \\n Recall=\" + str(recallLow), \"Class yes \\n Recall=\" + str(recallHigh), \"\"], fontsize=PLOT_FONT_SIZE)\n",
    "    plt.gca().set_yticklabels([\"\",\"Class no \\n Precision=\" + str(precisionLow), \"Class yes \\n Precision=\" + str(precisionHigh), \"\"], fontsize=PLOT_FONT_SIZE)\n",
    "    plt.ylabel(\"Predicted Class\", fontsize=PLOT_FONT_SIZE)\n",
    "    plt.xlabel(\"Actual Class\", fontsize=PLOT_FONT_SIZE)\n",
    "        \n",
    "    ## add text in heatmap boxes\n",
    "    addText(xticks, xticks, confusionMatrix)\n",
    "    \n",
    "def addText(xticks, yticks, results):\n",
    "    \"\"\"Add text in the plot\"\"\"\n",
    "    for i in range(2):\n",
    "        for j in range(2):\n",
    "            text = plt.text(j, i, results[i][j], ha=\"center\", va=\"center\", color=\"white\", size=PLOT_FONT_SIZE) ### size here is the size of text inside a single box in the heatmap"
   ]
  },
  {
   "cell_type": "code",
   "execution_count": 5,
   "id": "5c07cdf9",
   "metadata": {},
   "outputs": [
    {
     "data": {
      "text/plain": [
       "(110372, 11)"
      ]
     },
     "execution_count": 5,
     "metadata": {},
     "output_type": "execute_result"
    }
   ],
   "source": [
    "df.shape"
   ]
  },
  {
   "cell_type": "code",
   "execution_count": 6,
   "id": "c8f1028f",
   "metadata": {},
   "outputs": [
    {
     "data": {
      "text/html": [
       "<div>\n",
       "<style scoped>\n",
       "    .dataframe tbody tr th:only-of-type {\n",
       "        vertical-align: middle;\n",
       "    }\n",
       "\n",
       "    .dataframe tbody tr th {\n",
       "        vertical-align: top;\n",
       "    }\n",
       "\n",
       "    .dataframe thead th {\n",
       "        text-align: right;\n",
       "    }\n",
       "</style>\n",
       "<table border=\"1\" class=\"dataframe\">\n",
       "  <thead>\n",
       "    <tr style=\"text-align: right;\">\n",
       "      <th></th>\n",
       "      <th>Data Type</th>\n",
       "      <th>Missing Values</th>\n",
       "      <th>Unique Values</th>\n",
       "      <th>count</th>\n",
       "      <th>unique</th>\n",
       "      <th>top</th>\n",
       "      <th>freq</th>\n",
       "      <th>mean</th>\n",
       "      <th>std</th>\n",
       "      <th>min</th>\n",
       "      <th>25%</th>\n",
       "      <th>50%</th>\n",
       "      <th>75%</th>\n",
       "      <th>max</th>\n",
       "    </tr>\n",
       "  </thead>\n",
       "  <tbody>\n",
       "    <tr>\n",
       "      <th>App Number</th>\n",
       "      <td>float64</td>\n",
       "      <td>2</td>\n",
       "      <td>110370</td>\n",
       "      <td>110370.0</td>\n",
       "      <td></td>\n",
       "      <td></td>\n",
       "      <td></td>\n",
       "      <td>13013371.839503</td>\n",
       "      <td>1638074.919335</td>\n",
       "      <td>11148204.0</td>\n",
       "      <td>11203622.5</td>\n",
       "      <td>14440637.0</td>\n",
       "      <td>14496579.5</td>\n",
       "      <td>14552450.0</td>\n",
       "    </tr>\n",
       "    <tr>\n",
       "      <th>Direct Deposit</th>\n",
       "      <td>object</td>\n",
       "      <td>0</td>\n",
       "      <td>2</td>\n",
       "      <td>110372.0</td>\n",
       "      <td>2</td>\n",
       "      <td>Yes</td>\n",
       "      <td>56343</td>\n",
       "      <td></td>\n",
       "      <td></td>\n",
       "      <td></td>\n",
       "      <td></td>\n",
       "      <td></td>\n",
       "      <td></td>\n",
       "      <td></td>\n",
       "    </tr>\n",
       "    <tr>\n",
       "      <th>Application Year</th>\n",
       "      <td>int64</td>\n",
       "      <td>0</td>\n",
       "      <td>2</td>\n",
       "      <td>110372.0</td>\n",
       "      <td></td>\n",
       "      <td></td>\n",
       "      <td></td>\n",
       "      <td>2021.551335</td>\n",
       "      <td>0.49736</td>\n",
       "      <td>2021.0</td>\n",
       "      <td>2021.0</td>\n",
       "      <td>2022.0</td>\n",
       "      <td>2022.0</td>\n",
       "      <td>2022.0</td>\n",
       "    </tr>\n",
       "    <tr>\n",
       "      <th>Membership Length (Years)</th>\n",
       "      <td>int64</td>\n",
       "      <td>0</td>\n",
       "      <td>65</td>\n",
       "      <td>110372.0</td>\n",
       "      <td></td>\n",
       "      <td></td>\n",
       "      <td></td>\n",
       "      <td>5.422363</td>\n",
       "      <td>34.596522</td>\n",
       "      <td>-7976.0</td>\n",
       "      <td>2.0</td>\n",
       "      <td>3.0</td>\n",
       "      <td>7.0</td>\n",
       "      <td>609.0</td>\n",
       "    </tr>\n",
       "    <tr>\n",
       "      <th>Decision</th>\n",
       "      <td>object</td>\n",
       "      <td>0</td>\n",
       "      <td>4</td>\n",
       "      <td>110372.0</td>\n",
       "      <td>4</td>\n",
       "      <td>Approve</td>\n",
       "      <td>56108</td>\n",
       "      <td></td>\n",
       "      <td></td>\n",
       "      <td></td>\n",
       "      <td></td>\n",
       "      <td></td>\n",
       "      <td></td>\n",
       "      <td></td>\n",
       "    </tr>\n",
       "    <tr>\n",
       "      <th>Credit Line</th>\n",
       "      <td>float64</td>\n",
       "      <td>0</td>\n",
       "      <td>315</td>\n",
       "      <td>110372.0</td>\n",
       "      <td></td>\n",
       "      <td></td>\n",
       "      <td></td>\n",
       "      <td>3133.302491</td>\n",
       "      <td>5823.094337</td>\n",
       "      <td>0.0</td>\n",
       "      <td>0.0</td>\n",
       "      <td>150.0</td>\n",
       "      <td>2850.0</td>\n",
       "      <td>22500.0</td>\n",
       "    </tr>\n",
       "    <tr>\n",
       "      <th>Product</th>\n",
       "      <td>object</td>\n",
       "      <td>450</td>\n",
       "      <td>6</td>\n",
       "      <td>109922.0</td>\n",
       "      <td>6</td>\n",
       "      <td>cashRewards</td>\n",
       "      <td>38813</td>\n",
       "      <td></td>\n",
       "      <td></td>\n",
       "      <td></td>\n",
       "      <td></td>\n",
       "      <td></td>\n",
       "      <td></td>\n",
       "      <td></td>\n",
       "    </tr>\n",
       "    <tr>\n",
       "      <th>Network</th>\n",
       "      <td>object</td>\n",
       "      <td>0</td>\n",
       "      <td>3</td>\n",
       "      <td>110372.0</td>\n",
       "      <td>3</td>\n",
       "      <td>VISA</td>\n",
       "      <td>83365</td>\n",
       "      <td></td>\n",
       "      <td></td>\n",
       "      <td></td>\n",
       "      <td></td>\n",
       "      <td></td>\n",
       "      <td></td>\n",
       "      <td></td>\n",
       "    </tr>\n",
       "    <tr>\n",
       "      <th>Channel</th>\n",
       "      <td>object</td>\n",
       "      <td>0</td>\n",
       "      <td>5</td>\n",
       "      <td>110372.0</td>\n",
       "      <td>5</td>\n",
       "      <td>Online</td>\n",
       "      <td>52327</td>\n",
       "      <td></td>\n",
       "      <td></td>\n",
       "      <td></td>\n",
       "      <td></td>\n",
       "      <td></td>\n",
       "      <td></td>\n",
       "      <td></td>\n",
       "    </tr>\n",
       "    <tr>\n",
       "      <th>Promo Code</th>\n",
       "      <td>float64</td>\n",
       "      <td>96940</td>\n",
       "      <td>26</td>\n",
       "      <td>13432.0</td>\n",
       "      <td></td>\n",
       "      <td></td>\n",
       "      <td></td>\n",
       "      <td>64468.966051</td>\n",
       "      <td>17672.123571</td>\n",
       "      <td>24147.0</td>\n",
       "      <td>71188.0</td>\n",
       "      <td>71197.0</td>\n",
       "      <td>71205.0</td>\n",
       "      <td>99966.0</td>\n",
       "    </tr>\n",
       "    <tr>\n",
       "      <th>Credit Tier</th>\n",
       "      <td>object</td>\n",
       "      <td>1245</td>\n",
       "      <td>11</td>\n",
       "      <td>109127.0</td>\n",
       "      <td>11</td>\n",
       "      <td>E</td>\n",
       "      <td>22511</td>\n",
       "      <td></td>\n",
       "      <td></td>\n",
       "      <td></td>\n",
       "      <td></td>\n",
       "      <td></td>\n",
       "      <td></td>\n",
       "      <td></td>\n",
       "    </tr>\n",
       "  </tbody>\n",
       "</table>\n",
       "</div>"
      ],
      "text/plain": [
       "                          Data Type  Missing Values  Unique Values     count  \\\n",
       "App Number                  float64               2         110370  110370.0   \n",
       "Direct Deposit               object               0              2  110372.0   \n",
       "Application Year              int64               0              2  110372.0   \n",
       "Membership Length (Years)     int64               0             65  110372.0   \n",
       "Decision                     object               0              4  110372.0   \n",
       "Credit Line                 float64               0            315  110372.0   \n",
       "Product                      object             450              6  109922.0   \n",
       "Network                      object               0              3  110372.0   \n",
       "Channel                      object               0              5  110372.0   \n",
       "Promo Code                  float64           96940             26   13432.0   \n",
       "Credit Tier                  object            1245             11  109127.0   \n",
       "\n",
       "                          unique          top   freq             mean  \\\n",
       "App Number                                            13013371.839503   \n",
       "Direct Deposit                 2          Yes  56343                    \n",
       "Application Year                                          2021.551335   \n",
       "Membership Length (Years)                                    5.422363   \n",
       "Decision                       4      Approve  56108                    \n",
       "Credit Line                                               3133.302491   \n",
       "Product                        6  cashRewards  38813                    \n",
       "Network                        3         VISA  83365                    \n",
       "Channel                        5       Online  52327                    \n",
       "Promo Code                                               64468.966051   \n",
       "Credit Tier                   11            E  22511                    \n",
       "\n",
       "                                      std         min         25%         50%  \\\n",
       "App Number                 1638074.919335  11148204.0  11203622.5  14440637.0   \n",
       "Direct Deposit                                                                  \n",
       "Application Year                  0.49736      2021.0      2021.0      2022.0   \n",
       "Membership Length (Years)       34.596522     -7976.0         2.0         3.0   \n",
       "Decision                                                                        \n",
       "Credit Line                   5823.094337         0.0         0.0       150.0   \n",
       "Product                                                                         \n",
       "Network                                                                         \n",
       "Channel                                                                         \n",
       "Promo Code                   17672.123571     24147.0     71188.0     71197.0   \n",
       "Credit Tier                                                                     \n",
       "\n",
       "                                  75%         max  \n",
       "App Number                 14496579.5  14552450.0  \n",
       "Direct Deposit                                     \n",
       "Application Year               2022.0      2022.0  \n",
       "Membership Length (Years)         7.0       609.0  \n",
       "Decision                                           \n",
       "Credit Line                    2850.0     22500.0  \n",
       "Product                                            \n",
       "Network                                            \n",
       "Channel                                            \n",
       "Promo Code                    71205.0     99966.0  \n",
       "Credit Tier                                        "
      ]
     },
     "metadata": {},
     "output_type": "display_data"
    }
   ],
   "source": [
    "summarize_dataframe(df)"
   ]
  },
  {
   "cell_type": "code",
   "execution_count": 7,
   "id": "93afbc61",
   "metadata": {},
   "outputs": [
    {
     "data": {
      "text/html": [
       "<div>\n",
       "<style scoped>\n",
       "    .dataframe tbody tr th:only-of-type {\n",
       "        vertical-align: middle;\n",
       "    }\n",
       "\n",
       "    .dataframe tbody tr th {\n",
       "        vertical-align: top;\n",
       "    }\n",
       "\n",
       "    .dataframe thead th {\n",
       "        text-align: right;\n",
       "    }\n",
       "</style>\n",
       "<table border=\"1\" class=\"dataframe\">\n",
       "  <thead>\n",
       "    <tr style=\"text-align: right;\">\n",
       "      <th></th>\n",
       "      <th>App Number</th>\n",
       "      <th>Direct Deposit</th>\n",
       "      <th>Application Year</th>\n",
       "      <th>Membership Length (Years)</th>\n",
       "      <th>Decision</th>\n",
       "      <th>Credit Line</th>\n",
       "      <th>Product</th>\n",
       "      <th>Network</th>\n",
       "      <th>Channel</th>\n",
       "      <th>Promo Code</th>\n",
       "      <th>Credit Tier</th>\n",
       "    </tr>\n",
       "  </thead>\n",
       "  <tbody>\n",
       "    <tr>\n",
       "      <th>0</th>\n",
       "      <td>14429106.0</td>\n",
       "      <td>Yes</td>\n",
       "      <td>2022</td>\n",
       "      <td>8</td>\n",
       "      <td>Approve</td>\n",
       "      <td>375.0</td>\n",
       "      <td>nRewards</td>\n",
       "      <td>MC</td>\n",
       "      <td>Contact Center</td>\n",
       "      <td>NaN</td>\n",
       "      <td>AA</td>\n",
       "    </tr>\n",
       "    <tr>\n",
       "      <th>1</th>\n",
       "      <td>14429108.0</td>\n",
       "      <td>Yes</td>\n",
       "      <td>2022</td>\n",
       "      <td>4</td>\n",
       "      <td>Decline</td>\n",
       "      <td>0.0</td>\n",
       "      <td>cashRewards</td>\n",
       "      <td>VISA</td>\n",
       "      <td>Online</td>\n",
       "      <td>NaN</td>\n",
       "      <td>E</td>\n",
       "    </tr>\n",
       "    <tr>\n",
       "      <th>2</th>\n",
       "      <td>14429110.0</td>\n",
       "      <td>No</td>\n",
       "      <td>2022</td>\n",
       "      <td>1</td>\n",
       "      <td>Decline</td>\n",
       "      <td>0.0</td>\n",
       "      <td>cashRewards</td>\n",
       "      <td>VISA</td>\n",
       "      <td>Mobile</td>\n",
       "      <td>NaN</td>\n",
       "      <td>E</td>\n",
       "    </tr>\n",
       "    <tr>\n",
       "      <th>3</th>\n",
       "      <td>14429112.0</td>\n",
       "      <td>No</td>\n",
       "      <td>2022</td>\n",
       "      <td>10</td>\n",
       "      <td>Approve</td>\n",
       "      <td>2625.0</td>\n",
       "      <td>more Rewards</td>\n",
       "      <td>AMEX</td>\n",
       "      <td>Online</td>\n",
       "      <td>NaN</td>\n",
       "      <td>C</td>\n",
       "    </tr>\n",
       "    <tr>\n",
       "      <th>4</th>\n",
       "      <td>14429114.0</td>\n",
       "      <td>No</td>\n",
       "      <td>2022</td>\n",
       "      <td>1</td>\n",
       "      <td>Decline</td>\n",
       "      <td>0.0</td>\n",
       "      <td>more Rewards</td>\n",
       "      <td>AMEX</td>\n",
       "      <td>Mobile</td>\n",
       "      <td>NaN</td>\n",
       "      <td>C-</td>\n",
       "    </tr>\n",
       "  </tbody>\n",
       "</table>\n",
       "</div>"
      ],
      "text/plain": [
       "   App Number Direct Deposit  Application Year  Membership Length (Years)  \\\n",
       "0  14429106.0            Yes              2022                          8   \n",
       "1  14429108.0            Yes              2022                          4   \n",
       "2  14429110.0             No              2022                          1   \n",
       "3  14429112.0             No              2022                         10   \n",
       "4  14429114.0             No              2022                          1   \n",
       "\n",
       "  Decision  Credit Line       Product Network         Channel  Promo Code  \\\n",
       "0  Approve        375.0      nRewards      MC  Contact Center         NaN   \n",
       "1  Decline          0.0   cashRewards    VISA          Online         NaN   \n",
       "2  Decline          0.0   cashRewards    VISA          Mobile         NaN   \n",
       "3  Approve       2625.0  more Rewards    AMEX          Online         NaN   \n",
       "4  Decline          0.0  more Rewards    AMEX          Mobile         NaN   \n",
       "\n",
       "  Credit Tier  \n",
       "0          AA  \n",
       "1           E  \n",
       "2           E  \n",
       "3           C  \n",
       "4          C-  "
      ]
     },
     "execution_count": 7,
     "metadata": {},
     "output_type": "execute_result"
    }
   ],
   "source": [
    "df.head()"
   ]
  },
  {
   "cell_type": "code",
   "execution_count": 230,
   "id": "e9153337",
   "metadata": {},
   "outputs": [],
   "source": [
    "df['Promo Code'] = df['Promo Code'].fillna(0)\n",
    "df['Promo Code'] = df['Promo Code'].astype(object)"
   ]
  },
  {
   "cell_type": "code",
   "execution_count": 231,
   "id": "cb32c0b5",
   "metadata": {},
   "outputs": [],
   "source": [
    "max_value = df['Membership Length (Years)'].max()\n",
    "min_value = df['Membership Length (Years)'].min()\n",
    "\n",
    "df = df[df['Membership Length (Years)'] < max_value]\n",
    "df = df[df['Membership Length (Years)'] > min_value]"
   ]
  },
  {
   "cell_type": "code",
   "execution_count": 232,
   "id": "21a7c900",
   "metadata": {},
   "outputs": [],
   "source": [
    "df_clean = df.drop([# 'App Number',\n",
    "                    'Credit Line',\n",
    "                    'Credit Tier'], axis=1)"
   ]
  },
  {
   "cell_type": "code",
   "execution_count": 233,
   "id": "fc7f5208",
   "metadata": {},
   "outputs": [],
   "source": [
    "df_clean.dropna(subset = ['Network','Product'], inplace=True)\n",
    "# df.drop(df[df['Credit Line'] == 0].index)\n",
    "df_clean.drop(df_clean[df_clean['Decision'].isin(['Void', 'Withdraw'])].index, inplace=True)\n",
    "df_clean['Promo Code'] = df_clean['Promo Code'].astype('int64')"
   ]
  },
  {
   "cell_type": "code",
   "execution_count": 234,
   "id": "c06b9fb9",
   "metadata": {},
   "outputs": [
    {
     "data": {
      "text/html": [
       "<div>\n",
       "<style scoped>\n",
       "    .dataframe tbody tr th:only-of-type {\n",
       "        vertical-align: middle;\n",
       "    }\n",
       "\n",
       "    .dataframe tbody tr th {\n",
       "        vertical-align: top;\n",
       "    }\n",
       "\n",
       "    .dataframe thead th {\n",
       "        text-align: right;\n",
       "    }\n",
       "</style>\n",
       "<table border=\"1\" class=\"dataframe\">\n",
       "  <thead>\n",
       "    <tr style=\"text-align: right;\">\n",
       "      <th></th>\n",
       "      <th>Data Type</th>\n",
       "      <th>Missing Values</th>\n",
       "      <th>Unique Values</th>\n",
       "      <th>count</th>\n",
       "      <th>unique</th>\n",
       "      <th>top</th>\n",
       "      <th>freq</th>\n",
       "      <th>mean</th>\n",
       "      <th>std</th>\n",
       "      <th>min</th>\n",
       "      <th>25%</th>\n",
       "      <th>50%</th>\n",
       "      <th>75%</th>\n",
       "      <th>max</th>\n",
       "    </tr>\n",
       "  </thead>\n",
       "  <tbody>\n",
       "    <tr>\n",
       "      <th>App Number</th>\n",
       "      <td>float64</td>\n",
       "      <td>2</td>\n",
       "      <td>109658</td>\n",
       "      <td>109658.0</td>\n",
       "      <td></td>\n",
       "      <td></td>\n",
       "      <td></td>\n",
       "      <td>13020737.944956</td>\n",
       "      <td>1637343.977924</td>\n",
       "      <td>11148204.0</td>\n",
       "      <td>11203714.5</td>\n",
       "      <td>14441083.0</td>\n",
       "      <td>14496815.5</td>\n",
       "      <td>14552450.0</td>\n",
       "    </tr>\n",
       "    <tr>\n",
       "      <th>Direct Deposit</th>\n",
       "      <td>object</td>\n",
       "      <td>0</td>\n",
       "      <td>2</td>\n",
       "      <td>109660.0</td>\n",
       "      <td>2</td>\n",
       "      <td>Yes</td>\n",
       "      <td>55885</td>\n",
       "      <td></td>\n",
       "      <td></td>\n",
       "      <td></td>\n",
       "      <td></td>\n",
       "      <td></td>\n",
       "      <td></td>\n",
       "      <td></td>\n",
       "    </tr>\n",
       "    <tr>\n",
       "      <th>Application Year</th>\n",
       "      <td>int64</td>\n",
       "      <td>0</td>\n",
       "      <td>2</td>\n",
       "      <td>109660.0</td>\n",
       "      <td></td>\n",
       "      <td></td>\n",
       "      <td></td>\n",
       "      <td>2021.553584</td>\n",
       "      <td>0.497123</td>\n",
       "      <td>2021.0</td>\n",
       "      <td>2021.0</td>\n",
       "      <td>2022.0</td>\n",
       "      <td>2022.0</td>\n",
       "      <td>2022.0</td>\n",
       "    </tr>\n",
       "    <tr>\n",
       "      <th>Membership Length (Years)</th>\n",
       "      <td>int64</td>\n",
       "      <td>0</td>\n",
       "      <td>63</td>\n",
       "      <td>109660.0</td>\n",
       "      <td></td>\n",
       "      <td></td>\n",
       "      <td></td>\n",
       "      <td>5.550948</td>\n",
       "      <td>6.250223</td>\n",
       "      <td>1.0</td>\n",
       "      <td>2.0</td>\n",
       "      <td>3.0</td>\n",
       "      <td>7.0</td>\n",
       "      <td>63.0</td>\n",
       "    </tr>\n",
       "    <tr>\n",
       "      <th>Decision</th>\n",
       "      <td>object</td>\n",
       "      <td>0</td>\n",
       "      <td>2</td>\n",
       "      <td>109660.0</td>\n",
       "      <td>2</td>\n",
       "      <td>Approve</td>\n",
       "      <td>55658</td>\n",
       "      <td></td>\n",
       "      <td></td>\n",
       "      <td></td>\n",
       "      <td></td>\n",
       "      <td></td>\n",
       "      <td></td>\n",
       "      <td></td>\n",
       "    </tr>\n",
       "    <tr>\n",
       "      <th>Product</th>\n",
       "      <td>object</td>\n",
       "      <td>0</td>\n",
       "      <td>6</td>\n",
       "      <td>109660.0</td>\n",
       "      <td>6</td>\n",
       "      <td>cashRewards</td>\n",
       "      <td>38723</td>\n",
       "      <td></td>\n",
       "      <td></td>\n",
       "      <td></td>\n",
       "      <td></td>\n",
       "      <td></td>\n",
       "      <td></td>\n",
       "      <td></td>\n",
       "    </tr>\n",
       "    <tr>\n",
       "      <th>Network</th>\n",
       "      <td>object</td>\n",
       "      <td>0</td>\n",
       "      <td>3</td>\n",
       "      <td>109660.0</td>\n",
       "      <td>3</td>\n",
       "      <td>VISA</td>\n",
       "      <td>83148</td>\n",
       "      <td></td>\n",
       "      <td></td>\n",
       "      <td></td>\n",
       "      <td></td>\n",
       "      <td></td>\n",
       "      <td></td>\n",
       "      <td></td>\n",
       "    </tr>\n",
       "    <tr>\n",
       "      <th>Channel</th>\n",
       "      <td>object</td>\n",
       "      <td>0</td>\n",
       "      <td>5</td>\n",
       "      <td>109660.0</td>\n",
       "      <td>5</td>\n",
       "      <td>Online</td>\n",
       "      <td>51911</td>\n",
       "      <td></td>\n",
       "      <td></td>\n",
       "      <td></td>\n",
       "      <td></td>\n",
       "      <td></td>\n",
       "      <td></td>\n",
       "      <td></td>\n",
       "    </tr>\n",
       "    <tr>\n",
       "      <th>Promo Code</th>\n",
       "      <td>int64</td>\n",
       "      <td>0</td>\n",
       "      <td>27</td>\n",
       "      <td>109660.0</td>\n",
       "      <td></td>\n",
       "      <td></td>\n",
       "      <td></td>\n",
       "      <td>7744.072223</td>\n",
       "      <td>21828.501091</td>\n",
       "      <td>0.0</td>\n",
       "      <td>0.0</td>\n",
       "      <td>0.0</td>\n",
       "      <td>0.0</td>\n",
       "      <td>99966.0</td>\n",
       "    </tr>\n",
       "  </tbody>\n",
       "</table>\n",
       "</div>"
      ],
      "text/plain": [
       "                          Data Type  Missing Values  Unique Values     count  \\\n",
       "App Number                  float64               2         109658  109658.0   \n",
       "Direct Deposit               object               0              2  109660.0   \n",
       "Application Year              int64               0              2  109660.0   \n",
       "Membership Length (Years)     int64               0             63  109660.0   \n",
       "Decision                     object               0              2  109660.0   \n",
       "Product                      object               0              6  109660.0   \n",
       "Network                      object               0              3  109660.0   \n",
       "Channel                      object               0              5  109660.0   \n",
       "Promo Code                    int64               0             27  109660.0   \n",
       "\n",
       "                          unique          top   freq             mean  \\\n",
       "App Number                                            13020737.944956   \n",
       "Direct Deposit                 2          Yes  55885                    \n",
       "Application Year                                          2021.553584   \n",
       "Membership Length (Years)                                    5.550948   \n",
       "Decision                       2      Approve  55658                    \n",
       "Product                        6  cashRewards  38723                    \n",
       "Network                        3         VISA  83148                    \n",
       "Channel                        5       Online  51911                    \n",
       "Promo Code                                                7744.072223   \n",
       "\n",
       "                                      std         min         25%         50%  \\\n",
       "App Number                 1637343.977924  11148204.0  11203714.5  14441083.0   \n",
       "Direct Deposit                                                                  \n",
       "Application Year                 0.497123      2021.0      2021.0      2022.0   \n",
       "Membership Length (Years)        6.250223         1.0         2.0         3.0   \n",
       "Decision                                                                        \n",
       "Product                                                                         \n",
       "Network                                                                         \n",
       "Channel                                                                         \n",
       "Promo Code                   21828.501091         0.0         0.0         0.0   \n",
       "\n",
       "                                  75%         max  \n",
       "App Number                 14496815.5  14552450.0  \n",
       "Direct Deposit                                     \n",
       "Application Year               2022.0      2022.0  \n",
       "Membership Length (Years)         7.0        63.0  \n",
       "Decision                                           \n",
       "Product                                            \n",
       "Network                                            \n",
       "Channel                                            \n",
       "Promo Code                        0.0     99966.0  "
      ]
     },
     "metadata": {},
     "output_type": "display_data"
    }
   ],
   "source": [
    "summarize_dataframe(df_clean)"
   ]
  },
  {
   "cell_type": "markdown",
   "id": "210a2a7e",
   "metadata": {},
   "source": [
    "### Data Exploration"
   ]
  },
  {
   "cell_type": "code",
   "execution_count": 68,
   "id": "78bb4e02",
   "metadata": {},
   "outputs": [
    {
     "data": {
      "text/plain": [
       "(109660, 9)"
      ]
     },
     "execution_count": 68,
     "metadata": {},
     "output_type": "execute_result"
    }
   ],
   "source": [
    "df_clean.shape"
   ]
  },
  {
   "cell_type": "code",
   "execution_count": 69,
   "id": "f739b6fc",
   "metadata": {},
   "outputs": [
    {
     "data": {
      "text/html": [
       "<div>\n",
       "<style scoped>\n",
       "    .dataframe tbody tr th:only-of-type {\n",
       "        vertical-align: middle;\n",
       "    }\n",
       "\n",
       "    .dataframe tbody tr th {\n",
       "        vertical-align: top;\n",
       "    }\n",
       "\n",
       "    .dataframe thead th {\n",
       "        text-align: right;\n",
       "    }\n",
       "</style>\n",
       "<table border=\"1\" class=\"dataframe\">\n",
       "  <thead>\n",
       "    <tr style=\"text-align: right;\">\n",
       "      <th></th>\n",
       "      <th>App Number</th>\n",
       "      <th>Direct Deposit</th>\n",
       "      <th>Application Year</th>\n",
       "      <th>Membership Length (Years)</th>\n",
       "      <th>Decision</th>\n",
       "      <th>Product</th>\n",
       "      <th>Network</th>\n",
       "      <th>Channel</th>\n",
       "      <th>Promo Code</th>\n",
       "    </tr>\n",
       "  </thead>\n",
       "  <tbody>\n",
       "    <tr>\n",
       "      <th>0</th>\n",
       "      <td>14429106.0</td>\n",
       "      <td>Yes</td>\n",
       "      <td>2022</td>\n",
       "      <td>8</td>\n",
       "      <td>Approve</td>\n",
       "      <td>nRewards</td>\n",
       "      <td>MC</td>\n",
       "      <td>Contact Center</td>\n",
       "      <td>0</td>\n",
       "    </tr>\n",
       "    <tr>\n",
       "      <th>1</th>\n",
       "      <td>14429108.0</td>\n",
       "      <td>Yes</td>\n",
       "      <td>2022</td>\n",
       "      <td>4</td>\n",
       "      <td>Decline</td>\n",
       "      <td>cashRewards</td>\n",
       "      <td>VISA</td>\n",
       "      <td>Online</td>\n",
       "      <td>0</td>\n",
       "    </tr>\n",
       "    <tr>\n",
       "      <th>2</th>\n",
       "      <td>14429110.0</td>\n",
       "      <td>No</td>\n",
       "      <td>2022</td>\n",
       "      <td>1</td>\n",
       "      <td>Decline</td>\n",
       "      <td>cashRewards</td>\n",
       "      <td>VISA</td>\n",
       "      <td>Mobile</td>\n",
       "      <td>0</td>\n",
       "    </tr>\n",
       "    <tr>\n",
       "      <th>3</th>\n",
       "      <td>14429112.0</td>\n",
       "      <td>No</td>\n",
       "      <td>2022</td>\n",
       "      <td>10</td>\n",
       "      <td>Approve</td>\n",
       "      <td>more Rewards</td>\n",
       "      <td>AMEX</td>\n",
       "      <td>Online</td>\n",
       "      <td>0</td>\n",
       "    </tr>\n",
       "    <tr>\n",
       "      <th>4</th>\n",
       "      <td>14429114.0</td>\n",
       "      <td>No</td>\n",
       "      <td>2022</td>\n",
       "      <td>1</td>\n",
       "      <td>Decline</td>\n",
       "      <td>more Rewards</td>\n",
       "      <td>AMEX</td>\n",
       "      <td>Mobile</td>\n",
       "      <td>0</td>\n",
       "    </tr>\n",
       "    <tr>\n",
       "      <th>5</th>\n",
       "      <td>14429116.0</td>\n",
       "      <td>No</td>\n",
       "      <td>2022</td>\n",
       "      <td>3</td>\n",
       "      <td>Approve</td>\n",
       "      <td>Platinum</td>\n",
       "      <td>VISA</td>\n",
       "      <td>Contact Center</td>\n",
       "      <td>0</td>\n",
       "    </tr>\n",
       "    <tr>\n",
       "      <th>6</th>\n",
       "      <td>14429118.0</td>\n",
       "      <td>Yes</td>\n",
       "      <td>2022</td>\n",
       "      <td>1</td>\n",
       "      <td>Approve</td>\n",
       "      <td>cashRewards</td>\n",
       "      <td>VISA</td>\n",
       "      <td>Branch</td>\n",
       "      <td>0</td>\n",
       "    </tr>\n",
       "    <tr>\n",
       "      <th>7</th>\n",
       "      <td>14429120.0</td>\n",
       "      <td>Yes</td>\n",
       "      <td>2022</td>\n",
       "      <td>4</td>\n",
       "      <td>Decline</td>\n",
       "      <td>Platinum</td>\n",
       "      <td>VISA</td>\n",
       "      <td>Mobile</td>\n",
       "      <td>0</td>\n",
       "    </tr>\n",
       "  </tbody>\n",
       "</table>\n",
       "</div>"
      ],
      "text/plain": [
       "   App Number Direct Deposit  Application Year  Membership Length (Years)  \\\n",
       "0  14429106.0            Yes              2022                          8   \n",
       "1  14429108.0            Yes              2022                          4   \n",
       "2  14429110.0             No              2022                          1   \n",
       "3  14429112.0             No              2022                         10   \n",
       "4  14429114.0             No              2022                          1   \n",
       "5  14429116.0             No              2022                          3   \n",
       "6  14429118.0            Yes              2022                          1   \n",
       "7  14429120.0            Yes              2022                          4   \n",
       "\n",
       "  Decision       Product Network         Channel  Promo Code  \n",
       "0  Approve      nRewards      MC  Contact Center           0  \n",
       "1  Decline   cashRewards    VISA          Online           0  \n",
       "2  Decline   cashRewards    VISA          Mobile           0  \n",
       "3  Approve  more Rewards    AMEX          Online           0  \n",
       "4  Decline  more Rewards    AMEX          Mobile           0  \n",
       "5  Approve      Platinum    VISA  Contact Center           0  \n",
       "6  Approve   cashRewards    VISA          Branch           0  \n",
       "7  Decline      Platinum    VISA          Mobile           0  "
      ]
     },
     "execution_count": 69,
     "metadata": {},
     "output_type": "execute_result"
    }
   ],
   "source": [
    "df_clean.head(8)"
   ]
  },
  {
   "cell_type": "code",
   "execution_count": 70,
   "id": "f79651f0",
   "metadata": {},
   "outputs": [
    {
     "data": {
      "text/plain": [
       "Approve    55658\n",
       "Decline    54002\n",
       "Name: Decision, dtype: int64"
      ]
     },
     "execution_count": 70,
     "metadata": {},
     "output_type": "execute_result"
    }
   ],
   "source": [
    "df_clean['Decision'].value_counts()"
   ]
  },
  {
   "cell_type": "code",
   "execution_count": 198,
   "id": "c736e7c4",
   "metadata": {
    "scrolled": true
   },
   "outputs": [],
   "source": [
    "# Make df with top 7 promo codes including no promo code\n",
    "top_promos = df_clean['Promo Code'].value_counts().nlargest(7).index\n",
    "df_top_promos = df_clean[df_clean['Promo Code'].isin(top_promos)]"
   ]
  },
  {
   "cell_type": "code",
   "execution_count": 199,
   "id": "2a8823fe",
   "metadata": {},
   "outputs": [],
   "source": [
    "# Make df with 6 promo codes excluding no promo code\n",
    "top_promos1 = df_clean[df_clean['Promo Code'] != 0].groupby('Promo Code').size().reset_index(name='Number of Applications').nlargest(6, 'Number of Applications')\n",
    "promo_codes = top_promos1['Promo Code'].tolist()\n",
    "df_onlypromo = df_clean[df_clean['Promo Code'].isin(promo_codes)]"
   ]
  },
  {
   "cell_type": "code",
   "execution_count": 200,
   "id": "d52a4beb",
   "metadata": {},
   "outputs": [],
   "source": [
    "# make df with 10 years or less membership\n",
    "df_firstdecade = df_clean[df_clean['Membership Length (Years)'] <= 10]"
   ]
  },
  {
   "cell_type": "code",
   "execution_count": 201,
   "id": "18d25ef4",
   "metadata": {},
   "outputs": [],
   "source": [
    "# test of first decade with only onlypromo\n",
    "df_top7promo = df_firstdecade[df_firstdecade['Promo Code'].isin(promo_codes)]"
   ]
  },
  {
   "cell_type": "code",
   "execution_count": 75,
   "id": "451aef81",
   "metadata": {},
   "outputs": [
    {
     "data": {
      "text/html": [
       "<div>\n",
       "<style scoped>\n",
       "    .dataframe tbody tr th:only-of-type {\n",
       "        vertical-align: middle;\n",
       "    }\n",
       "\n",
       "    .dataframe tbody tr th {\n",
       "        vertical-align: top;\n",
       "    }\n",
       "\n",
       "    .dataframe thead th {\n",
       "        text-align: right;\n",
       "    }\n",
       "</style>\n",
       "<table border=\"1\" class=\"dataframe\">\n",
       "  <thead>\n",
       "    <tr style=\"text-align: right;\">\n",
       "      <th></th>\n",
       "      <th>Data Type</th>\n",
       "      <th>Missing Values</th>\n",
       "      <th>Unique Values</th>\n",
       "      <th>count</th>\n",
       "      <th>unique</th>\n",
       "      <th>top</th>\n",
       "      <th>freq</th>\n",
       "      <th>mean</th>\n",
       "      <th>std</th>\n",
       "      <th>min</th>\n",
       "      <th>25%</th>\n",
       "      <th>50%</th>\n",
       "      <th>75%</th>\n",
       "      <th>max</th>\n",
       "    </tr>\n",
       "  </thead>\n",
       "  <tbody>\n",
       "    <tr>\n",
       "      <th>App Number</th>\n",
       "      <td>float64</td>\n",
       "      <td>0</td>\n",
       "      <td>96349</td>\n",
       "      <td>96349.0</td>\n",
       "      <td></td>\n",
       "      <td></td>\n",
       "      <td></td>\n",
       "      <td>13033163.378613</td>\n",
       "      <td>1636127.743527</td>\n",
       "      <td>11148204.0</td>\n",
       "      <td>11203888.0</td>\n",
       "      <td>14441830.0</td>\n",
       "      <td>14497582.0</td>\n",
       "      <td>14552450.0</td>\n",
       "    </tr>\n",
       "    <tr>\n",
       "      <th>Direct Deposit</th>\n",
       "      <td>object</td>\n",
       "      <td>0</td>\n",
       "      <td>2</td>\n",
       "      <td>96349.0</td>\n",
       "      <td>2</td>\n",
       "      <td>No</td>\n",
       "      <td>49858</td>\n",
       "      <td></td>\n",
       "      <td></td>\n",
       "      <td></td>\n",
       "      <td></td>\n",
       "      <td></td>\n",
       "      <td></td>\n",
       "      <td></td>\n",
       "    </tr>\n",
       "    <tr>\n",
       "      <th>Application Year</th>\n",
       "      <td>int64</td>\n",
       "      <td>0</td>\n",
       "      <td>2</td>\n",
       "      <td>96349.0</td>\n",
       "      <td></td>\n",
       "      <td></td>\n",
       "      <td></td>\n",
       "      <td>2021.557318</td>\n",
       "      <td>0.496706</td>\n",
       "      <td>2021.0</td>\n",
       "      <td>2021.0</td>\n",
       "      <td>2022.0</td>\n",
       "      <td>2022.0</td>\n",
       "      <td>2022.0</td>\n",
       "    </tr>\n",
       "    <tr>\n",
       "      <th>Membership Length (Years)</th>\n",
       "      <td>int64</td>\n",
       "      <td>0</td>\n",
       "      <td>10</td>\n",
       "      <td>96349.0</td>\n",
       "      <td></td>\n",
       "      <td></td>\n",
       "      <td></td>\n",
       "      <td>3.656187</td>\n",
       "      <td>2.389964</td>\n",
       "      <td>1.0</td>\n",
       "      <td>2.0</td>\n",
       "      <td>3.0</td>\n",
       "      <td>5.0</td>\n",
       "      <td>10.0</td>\n",
       "    </tr>\n",
       "    <tr>\n",
       "      <th>Decision</th>\n",
       "      <td>object</td>\n",
       "      <td>0</td>\n",
       "      <td>2</td>\n",
       "      <td>96349.0</td>\n",
       "      <td>2</td>\n",
       "      <td>Decline</td>\n",
       "      <td>48417</td>\n",
       "      <td></td>\n",
       "      <td></td>\n",
       "      <td></td>\n",
       "      <td></td>\n",
       "      <td></td>\n",
       "      <td></td>\n",
       "      <td></td>\n",
       "    </tr>\n",
       "    <tr>\n",
       "      <th>Product</th>\n",
       "      <td>object</td>\n",
       "      <td>0</td>\n",
       "      <td>6</td>\n",
       "      <td>96349.0</td>\n",
       "      <td>6</td>\n",
       "      <td>cashRewards</td>\n",
       "      <td>34684</td>\n",
       "      <td></td>\n",
       "      <td></td>\n",
       "      <td></td>\n",
       "      <td></td>\n",
       "      <td></td>\n",
       "      <td></td>\n",
       "      <td></td>\n",
       "    </tr>\n",
       "    <tr>\n",
       "      <th>Network</th>\n",
       "      <td>object</td>\n",
       "      <td>0</td>\n",
       "      <td>3</td>\n",
       "      <td>96349.0</td>\n",
       "      <td>3</td>\n",
       "      <td>VISA</td>\n",
       "      <td>73327</td>\n",
       "      <td></td>\n",
       "      <td></td>\n",
       "      <td></td>\n",
       "      <td></td>\n",
       "      <td></td>\n",
       "      <td></td>\n",
       "      <td></td>\n",
       "    </tr>\n",
       "    <tr>\n",
       "      <th>Channel</th>\n",
       "      <td>object</td>\n",
       "      <td>0</td>\n",
       "      <td>5</td>\n",
       "      <td>96349.0</td>\n",
       "      <td>5</td>\n",
       "      <td>Online</td>\n",
       "      <td>45473</td>\n",
       "      <td></td>\n",
       "      <td></td>\n",
       "      <td></td>\n",
       "      <td></td>\n",
       "      <td></td>\n",
       "      <td></td>\n",
       "      <td></td>\n",
       "    </tr>\n",
       "    <tr>\n",
       "      <th>Promo Code</th>\n",
       "      <td>int64</td>\n",
       "      <td>0</td>\n",
       "      <td>27</td>\n",
       "      <td>96349.0</td>\n",
       "      <td></td>\n",
       "      <td></td>\n",
       "      <td></td>\n",
       "      <td>7508.317585</td>\n",
       "      <td>21557.271564</td>\n",
       "      <td>0.0</td>\n",
       "      <td>0.0</td>\n",
       "      <td>0.0</td>\n",
       "      <td>0.0</td>\n",
       "      <td>99966.0</td>\n",
       "    </tr>\n",
       "  </tbody>\n",
       "</table>\n",
       "</div>"
      ],
      "text/plain": [
       "                          Data Type  Missing Values  Unique Values    count  \\\n",
       "App Number                  float64               0          96349  96349.0   \n",
       "Direct Deposit               object               0              2  96349.0   \n",
       "Application Year              int64               0              2  96349.0   \n",
       "Membership Length (Years)     int64               0             10  96349.0   \n",
       "Decision                     object               0              2  96349.0   \n",
       "Product                      object               0              6  96349.0   \n",
       "Network                      object               0              3  96349.0   \n",
       "Channel                      object               0              5  96349.0   \n",
       "Promo Code                    int64               0             27  96349.0   \n",
       "\n",
       "                          unique          top   freq             mean  \\\n",
       "App Number                                            13033163.378613   \n",
       "Direct Deposit                 2           No  49858                    \n",
       "Application Year                                          2021.557318   \n",
       "Membership Length (Years)                                    3.656187   \n",
       "Decision                       2      Decline  48417                    \n",
       "Product                        6  cashRewards  34684                    \n",
       "Network                        3         VISA  73327                    \n",
       "Channel                        5       Online  45473                    \n",
       "Promo Code                                                7508.317585   \n",
       "\n",
       "                                      std         min         25%         50%  \\\n",
       "App Number                 1636127.743527  11148204.0  11203888.0  14441830.0   \n",
       "Direct Deposit                                                                  \n",
       "Application Year                 0.496706      2021.0      2021.0      2022.0   \n",
       "Membership Length (Years)        2.389964         1.0         2.0         3.0   \n",
       "Decision                                                                        \n",
       "Product                                                                         \n",
       "Network                                                                         \n",
       "Channel                                                                         \n",
       "Promo Code                   21557.271564         0.0         0.0         0.0   \n",
       "\n",
       "                                  75%         max  \n",
       "App Number                 14497582.0  14552450.0  \n",
       "Direct Deposit                                     \n",
       "Application Year               2022.0      2022.0  \n",
       "Membership Length (Years)         5.0        10.0  \n",
       "Decision                                           \n",
       "Product                                            \n",
       "Network                                            \n",
       "Channel                                            \n",
       "Promo Code                        0.0     99966.0  "
      ]
     },
     "metadata": {},
     "output_type": "display_data"
    }
   ],
   "source": [
    "summarize_dataframe(df_firstdecade)"
   ]
  },
  {
   "cell_type": "code",
   "execution_count": 76,
   "id": "310f5070",
   "metadata": {},
   "outputs": [
    {
     "data": {
      "text/plain": [
       "71188    2711\n",
       "71197    2437\n",
       "71205    2135\n",
       "71206    1533\n",
       "80250    1368\n",
       "29049    1221\n",
       "Name: Promo Code, dtype: int64"
      ]
     },
     "execution_count": 76,
     "metadata": {},
     "output_type": "execute_result"
    }
   ],
   "source": [
    "df_onlypromo['Promo Code'].value_counts()"
   ]
  },
  {
   "cell_type": "code",
   "execution_count": 77,
   "id": "8a8f343d",
   "metadata": {},
   "outputs": [],
   "source": [
    "df_nopromo = df_clean[df_clean['Promo Code']==0]"
   ]
  },
  {
   "cell_type": "code",
   "execution_count": 78,
   "id": "dfb772c7",
   "metadata": {},
   "outputs": [],
   "source": [
    "# df_onlypromo = df[df['Promo Code'].notna()]"
   ]
  },
  {
   "cell_type": "code",
   "execution_count": 204,
   "id": "ad12e6a4",
   "metadata": {},
   "outputs": [
    {
     "data": {
      "image/png": "[encoded data removed]",
      "text/plain": [
       "<Figure size 432x288 with 1 Axes>"
      ]
     },
     "metadata": {},
     "output_type": "display_data"
    }
   ],
   "source": [
    "df_clean['Membership Length (Years)'].plot.hist(bins=65)\n",
    "plt.title('How Long Have Applicants Been Members')\n",
    "plt.xlabel('Membership Length (Years)')\n",
    "plt.ylabel('Number of Applications')\n",
    "plt.show()"
   ]
  },
  {
   "cell_type": "code",
   "execution_count": 256,
   "id": "2834731c",
   "metadata": {},
   "outputs": [
    {
     "data": {
      "text/plain": [
       "<matplotlib.legend.Legend at 0x1a3ab9dad90>"
      ]
     },
     "execution_count": 256,
     "metadata": {},
     "output_type": "execute_result"
    },
    {
     "data": {
      "image/png": "[encoded data removed]",
      "text/plain": [
       "<Figure size 720x432 with 1 Axes>"
      ]
     },
     "metadata": {},
     "output_type": "display_data"
    }
   ],
   "source": [
    "# Select top 6 promo codes\n",
    "top_promos = df_clean[df_clean['Promo Code'] != 0].groupby('Promo Code').size().reset_index(name='Number of Applications').nlargest(6, 'Number of Applications')\n",
    "promo_codes = top_promos['Promo Code'].tolist()\n",
    "\n",
    "# Filter data for top 6 promo codes\n",
    "df_top_promos = df_clean[df_clean['Promo Code'].isin(promo_codes)]\n",
    "\n",
    "# Group data by Promo Code and Decision and count the number of applications\n",
    "promo_decisions = df_top_promos.groupby(['Promo Code', 'Decision']).size().unstack().fillna(0)\n",
    "\n",
    "# Create stacked horizontal bar chart\n",
    "ax = promo_decisions.plot(kind='bar', stacked=True, figsize=(10, 6))\n",
    "ax.set_title('Promo Code Performance by Decision')\n",
    "ax.set_xlabel('Number of Applications')\n",
    "ax.legend(loc='best', ncol=2)\n"
   ]
  },
  {
   "cell_type": "code",
   "execution_count": 202,
   "id": "baff5f35",
   "metadata": {},
   "outputs": [
    {
     "data": {
      "text/plain": [
       "<AxesSubplot:title={'center':'Top 6 Promo Code'}, xlabel='Promo Code', ylabel='Number of Applications'>"
      ]
     },
     "execution_count": 202,
     "metadata": {},
     "output_type": "execute_result"
    },
    {
     "data": {
      "image/png": "[encoded data removed]",
      "text/plain": [
       "<Figure size 432x288 with 1 Axes>"
      ]
     },
     "metadata": {},
     "output_type": "display_data"
    }
   ],
   "source": [
    "promo_counts = df_onlypromo.groupby(\"Promo Code\").count().reset_index()[[\"Promo Code\", \"App Number\"]]\n",
    "promo_counts[\"Promo Code\"] = promo_counts[\"Promo Code\"].astype(int)\n",
    "promo_counts = promo_counts.rename(columns={\"App Number\": \"Number of Applications\"})\n",
    "\n",
    "ax = sns.barplot(data=promo_counts, x=\"Promo Code\", y=\"Number of Applications\")\n",
    "ax.set_xticklabels(ax.get_xticklabels(), rotation=90)\n",
    "ax.set_title(\"Top 6 Promo Code\")\n",
    "sns.barplot(data=promo_counts, x=\"Promo Code\", y=\"Number of Applications\")"
   ]
  },
  {
   "cell_type": "code",
   "execution_count": 273,
   "id": "dccfa23a",
   "metadata": {},
   "outputs": [
    {
     "data": {
      "image/png": "[encoded data removed]",
      "text/plain": [
       "<Figure size 720x432 with 1 Axes>"
      ]
     },
     "metadata": {},
     "output_type": "display_data"
    }
   ],
   "source": [
    "# Filter data for non-mail applications\n",
    "df_nonmail = df_clean[df_clean['Channel'] != 'Mail']\n",
    "\n",
    "# Group data by Channel and Decision and count the number of applications\n",
    "channel_decisions = df_nonmail.groupby(['Channel', 'Decision']).size().unstack().fillna(0)\n",
    "\n",
    "# Create stacked horizontal bar chart\n",
    "ax = channel_decisions.plot(kind='bar', stacked=True, figsize=(10, 6))\n",
    "ax.set_title('Applications by Channel Excluding Mail by Decision')\n",
    "ax.set_xlabel('Number of Applications')\n",
    "ax.set_xticklabels(ax.get_xticklabels(), rotation=0)\n",
    "ax.set_xlabel('Number of Applications')\n",
    "ax.legend(loc='best', ncol=2)\n",
    "plt.show()\n"
   ]
  },
  {
   "cell_type": "code",
   "execution_count": 221,
   "id": "3c48772f",
   "metadata": {},
   "outputs": [],
   "source": [
    "df_firstdecade = df_firstdecade.drop(['App Number'], axis=1)"
   ]
  },
  {
   "cell_type": "code",
   "execution_count": 93,
   "id": "ea449ed4",
   "metadata": {},
   "outputs": [
    {
     "data": {
      "text/html": [
       "<div>\n",
       "<style scoped>\n",
       "    .dataframe tbody tr th:only-of-type {\n",
       "        vertical-align: middle;\n",
       "    }\n",
       "\n",
       "    .dataframe tbody tr th {\n",
       "        vertical-align: top;\n",
       "    }\n",
       "\n",
       "    .dataframe thead th {\n",
       "        text-align: right;\n",
       "    }\n",
       "</style>\n",
       "<table border=\"1\" class=\"dataframe\">\n",
       "  <thead>\n",
       "    <tr style=\"text-align: right;\">\n",
       "      <th></th>\n",
       "      <th>Data Type</th>\n",
       "      <th>Missing Values</th>\n",
       "      <th>Unique Values</th>\n",
       "      <th>count</th>\n",
       "      <th>unique</th>\n",
       "      <th>top</th>\n",
       "      <th>freq</th>\n",
       "      <th>mean</th>\n",
       "      <th>std</th>\n",
       "      <th>min</th>\n",
       "      <th>25%</th>\n",
       "      <th>50%</th>\n",
       "      <th>75%</th>\n",
       "      <th>max</th>\n",
       "    </tr>\n",
       "  </thead>\n",
       "  <tbody>\n",
       "    <tr>\n",
       "      <th>Direct Deposit</th>\n",
       "      <td>object</td>\n",
       "      <td>0</td>\n",
       "      <td>2</td>\n",
       "      <td>96349.0</td>\n",
       "      <td>2</td>\n",
       "      <td>No</td>\n",
       "      <td>49858</td>\n",
       "      <td></td>\n",
       "      <td></td>\n",
       "      <td></td>\n",
       "      <td></td>\n",
       "      <td></td>\n",
       "      <td></td>\n",
       "      <td></td>\n",
       "    </tr>\n",
       "    <tr>\n",
       "      <th>Application Year</th>\n",
       "      <td>int64</td>\n",
       "      <td>0</td>\n",
       "      <td>2</td>\n",
       "      <td>96349.0</td>\n",
       "      <td></td>\n",
       "      <td></td>\n",
       "      <td></td>\n",
       "      <td>2021.557318</td>\n",
       "      <td>0.496706</td>\n",
       "      <td>2021.0</td>\n",
       "      <td>2021.0</td>\n",
       "      <td>2022.0</td>\n",
       "      <td>2022.0</td>\n",
       "      <td>2022.0</td>\n",
       "    </tr>\n",
       "    <tr>\n",
       "      <th>Membership Length (Years)</th>\n",
       "      <td>int64</td>\n",
       "      <td>0</td>\n",
       "      <td>10</td>\n",
       "      <td>96349.0</td>\n",
       "      <td></td>\n",
       "      <td></td>\n",
       "      <td></td>\n",
       "      <td>3.656187</td>\n",
       "      <td>2.389964</td>\n",
       "      <td>1.0</td>\n",
       "      <td>2.0</td>\n",
       "      <td>3.0</td>\n",
       "      <td>5.0</td>\n",
       "      <td>10.0</td>\n",
       "    </tr>\n",
       "    <tr>\n",
       "      <th>Decision</th>\n",
       "      <td>object</td>\n",
       "      <td>0</td>\n",
       "      <td>2</td>\n",
       "      <td>96349.0</td>\n",
       "      <td>2</td>\n",
       "      <td>Decline</td>\n",
       "      <td>48417</td>\n",
       "      <td></td>\n",
       "      <td></td>\n",
       "      <td></td>\n",
       "      <td></td>\n",
       "      <td></td>\n",
       "      <td></td>\n",
       "      <td></td>\n",
       "    </tr>\n",
       "    <tr>\n",
       "      <th>Product</th>\n",
       "      <td>object</td>\n",
       "      <td>0</td>\n",
       "      <td>6</td>\n",
       "      <td>96349.0</td>\n",
       "      <td>6</td>\n",
       "      <td>cashRewards</td>\n",
       "      <td>34684</td>\n",
       "      <td></td>\n",
       "      <td></td>\n",
       "      <td></td>\n",
       "      <td></td>\n",
       "      <td></td>\n",
       "      <td></td>\n",
       "      <td></td>\n",
       "    </tr>\n",
       "    <tr>\n",
       "      <th>Network</th>\n",
       "      <td>object</td>\n",
       "      <td>0</td>\n",
       "      <td>3</td>\n",
       "      <td>96349.0</td>\n",
       "      <td>3</td>\n",
       "      <td>VISA</td>\n",
       "      <td>73327</td>\n",
       "      <td></td>\n",
       "      <td></td>\n",
       "      <td></td>\n",
       "      <td></td>\n",
       "      <td></td>\n",
       "      <td></td>\n",
       "      <td></td>\n",
       "    </tr>\n",
       "    <tr>\n",
       "      <th>Channel</th>\n",
       "      <td>object</td>\n",
       "      <td>0</td>\n",
       "      <td>5</td>\n",
       "      <td>96349.0</td>\n",
       "      <td>5</td>\n",
       "      <td>Online</td>\n",
       "      <td>45473</td>\n",
       "      <td></td>\n",
       "      <td></td>\n",
       "      <td></td>\n",
       "      <td></td>\n",
       "      <td></td>\n",
       "      <td></td>\n",
       "      <td></td>\n",
       "    </tr>\n",
       "    <tr>\n",
       "      <th>Promo Code</th>\n",
       "      <td>int64</td>\n",
       "      <td>0</td>\n",
       "      <td>27</td>\n",
       "      <td>96349.0</td>\n",
       "      <td></td>\n",
       "      <td></td>\n",
       "      <td></td>\n",
       "      <td>7508.317585</td>\n",
       "      <td>21557.271564</td>\n",
       "      <td>0.0</td>\n",
       "      <td>0.0</td>\n",
       "      <td>0.0</td>\n",
       "      <td>0.0</td>\n",
       "      <td>99966.0</td>\n",
       "    </tr>\n",
       "  </tbody>\n",
       "</table>\n",
       "</div>"
      ],
      "text/plain": [
       "                          Data Type  Missing Values  Unique Values    count  \\\n",
       "Direct Deposit               object               0              2  96349.0   \n",
       "Application Year              int64               0              2  96349.0   \n",
       "Membership Length (Years)     int64               0             10  96349.0   \n",
       "Decision                     object               0              2  96349.0   \n",
       "Product                      object               0              6  96349.0   \n",
       "Network                      object               0              3  96349.0   \n",
       "Channel                      object               0              5  96349.0   \n",
       "Promo Code                    int64               0             27  96349.0   \n",
       "\n",
       "                          unique          top   freq         mean  \\\n",
       "Direct Deposit                 2           No  49858                \n",
       "Application Year                                      2021.557318   \n",
       "Membership Length (Years)                                3.656187   \n",
       "Decision                       2      Decline  48417                \n",
       "Product                        6  cashRewards  34684                \n",
       "Network                        3         VISA  73327                \n",
       "Channel                        5       Online  45473                \n",
       "Promo Code                                            7508.317585   \n",
       "\n",
       "                                    std     min     25%     50%     75%  \\\n",
       "Direct Deposit                                                            \n",
       "Application Year               0.496706  2021.0  2021.0  2022.0  2022.0   \n",
       "Membership Length (Years)      2.389964     1.0     2.0     3.0     5.0   \n",
       "Decision                                                                  \n",
       "Product                                                                   \n",
       "Network                                                                   \n",
       "Channel                                                                   \n",
       "Promo Code                 21557.271564     0.0     0.0     0.0     0.0   \n",
       "\n",
       "                               max  \n",
       "Direct Deposit                      \n",
       "Application Year            2022.0  \n",
       "Membership Length (Years)     10.0  \n",
       "Decision                            \n",
       "Product                             \n",
       "Network                             \n",
       "Channel                             \n",
       "Promo Code                 99966.0  "
      ]
     },
     "metadata": {},
     "output_type": "display_data"
    }
   ],
   "source": [
    "summarize_dataframe(df_firstdecade)"
   ]
  },
  {
   "cell_type": "code",
   "execution_count": 94,
   "id": "7747266c",
   "metadata": {},
   "outputs": [
    {
     "data": {
      "text/plain": [
       "71188    2711\n",
       "71197    2437\n",
       "71205    2135\n",
       "71206    1533\n",
       "80250    1368\n",
       "29049    1221\n",
       "Name: Promo Code, dtype: int64"
      ]
     },
     "execution_count": 94,
     "metadata": {},
     "output_type": "execute_result"
    }
   ],
   "source": [
    "df_onlypromo['Promo Code'].value_counts().head(6)"
   ]
  },
  {
   "cell_type": "markdown",
   "id": "7bb3ee3b",
   "metadata": {},
   "source": [
    "### Split and Encode"
   ]
  },
  {
   "cell_type": "code",
   "execution_count": 274,
   "id": "53d5118d",
   "metadata": {},
   "outputs": [],
   "source": [
    "for column in df_onlypromo.columns:\n",
    "    if df_onlypromo[column].dtype == object:\n",
    "        df_onlypromo[column] = LabelEncoder().fit_transform(df_onlypromo[column])"
   ]
  },
  {
   "cell_type": "code",
   "execution_count": 275,
   "id": "e9992d10",
   "metadata": {},
   "outputs": [],
   "source": [
    "trainData, testData = train_test_split(df_onlypromo, test_size=.20, random_state=1)"
   ]
  },
  {
   "cell_type": "code",
   "execution_count": 276,
   "id": "22f06b34",
   "metadata": {},
   "outputs": [],
   "source": [
    "trainLabels = LabelEncoder().fit_transform(trainData.Decision)\n",
    "testLabels = LabelEncoder().fit_transform(testData.Decision)"
   ]
  },
  {
   "cell_type": "code",
   "execution_count": 277,
   "id": "fdf64755",
   "metadata": {},
   "outputs": [],
   "source": [
    "trainData = trainData.drop(columns = 'Decision')\n",
    "testData = testData.drop(columns = 'Decision')"
   ]
  },
  {
   "cell_type": "markdown",
   "id": "ec7f184d",
   "metadata": {},
   "source": [
    "### Data Augmentations"
   ]
  },
  {
   "cell_type": "code",
   "execution_count": 108,
   "id": "b4689f86",
   "metadata": {},
   "outputs": [],
   "source": [
    "from feature_engine.outliers import Winsorizer\n",
    "\n",
    "out = Winsorizer(tail = \"both\")\n",
    "\n",
    "cap_trainData, cap_testData = out.fit_transform(trainData), out.transform(testData)"
   ]
  },
  {
   "cell_type": "code",
   "execution_count": 157,
   "id": "f8de1580",
   "metadata": {},
   "outputs": [],
   "source": [
    "from feature_engine.creation import MathFeatures\n",
    "\n",
    "mf = MathFeatures(variables = ['Channel', 'Membership Length (Years)'], \n",
    "                  func = \"max\")\n",
    "\n",
    "mf_trainData, mf_testData = mf.fit_transform(cap_trainData), mf.fit_transform(cap_testData)"
   ]
  },
  {
   "cell_type": "code",
   "execution_count": 158,
   "id": "f52bb370",
   "metadata": {},
   "outputs": [],
   "source": [
    "from imblearn.over_sampling import SMOTE\n",
    "\n",
    "oversample = SMOTE(random_state=1, k_neighbors = 5, sampling_strategy = \"not majority\")\n",
    "strainData, strainLabels = oversample.fit_resample(mf_trainData, trainLabels)"
   ]
  },
  {
   "cell_type": "code",
   "execution_count": 159,
   "id": "979a1e9d",
   "metadata": {},
   "outputs": [
    {
     "data": {
      "text/plain": [
       "0.5"
      ]
     },
     "execution_count": 159,
     "metadata": {},
     "output_type": "execute_result"
    }
   ],
   "source": [
    "strainLabels.mean()"
   ]
  },
  {
   "cell_type": "markdown",
   "id": "8aff7b79",
   "metadata": {},
   "source": [
    "### Modeling"
   ]
  },
  {
   "cell_type": "markdown",
   "id": "2e6b5730",
   "metadata": {},
   "source": [
    "#### XGBoost"
   ]
  },
  {
   "cell_type": "code",
   "execution_count": 160,
   "id": "9ec68b71",
   "metadata": {},
   "outputs": [
    {
     "name": "stdout",
     "output_type": "stream",
     "text": [
      "Accuracy: 65.71\n",
      "PrecisionNegative: 70.10\n",
      "PrecisionPositive: 62.94\n",
      "RecallNegative: 54.43\n",
      "RecallPositive: 76.92\n",
      "AUC Score: 71.98\n",
      "\n"
     ]
    }
   ],
   "source": [
    "test_xgb1 = XGBClassifier(random_state=1)\n",
    "test_xgb1.fit(strainData, strainLabels)\n",
    "predictedProbabilities = test_xgb1.predict_proba(mf_testData)\n",
    "predictedLabels = test_xgb1.predict(mf_testData) \n",
    "calculateMetricsAndPrint(predictedLabels, predictedProbabilities, testLabels)"
   ]
  },
  {
   "cell_type": "code",
   "execution_count": null,
   "id": "c58109fa",
   "metadata": {},
   "outputs": [],
   "source": [
    "plot_conf_mat(test_xgb1, # The classifier object\n",
    "              mf_testData, # The test data set aside for evaluation in train_test_split\n",
    "              testLabels # Actual labels\n",
    "             )"
   ]
  },
  {
   "cell_type": "code",
   "execution_count": 278,
   "id": "a2ffc36e",
   "metadata": {},
   "outputs": [
    {
     "name": "stdout",
     "output_type": "stream",
     "text": [
      "Accuracy: 62.21\n",
      "PrecisionNegative: 65.76\n",
      "PrecisionPositive: 60.14\n",
      "RecallNegative: 49.07\n",
      "RecallPositive: 75.04\n",
      "AUC Score: 67.03\n",
      "\n"
     ]
    }
   ],
   "source": [
    "# Original\n",
    "test_xgb = XGBClassifier(random_state=1)\n",
    "test_xgb.fit(trainData, trainLabels)\n",
    "predictedProbabilities = test_xgb.predict_proba(testData)\n",
    "predictedLabels = test_xgb.predict(testData) \n",
    "calculateMetricsAndPrint(predictedLabels, predictedProbabilities, testLabels)"
   ]
  },
  {
   "cell_type": "code",
   "execution_count": 105,
   "id": "ba25e21d",
   "metadata": {},
   "outputs": [
    {
     "name": "stderr",
     "output_type": "stream",
     "text": [
      "C:\\Users\\cantr\\anaconda3\\lib\\site-packages\\sklearn\\utils\\deprecation.py:87: FutureWarning: Function plot_confusion_matrix is deprecated; Function `plot_confusion_matrix` is deprecated in 1.0 and will be removed in 1.2. Use one of the class methods: ConfusionMatrixDisplay.from_predictions or ConfusionMatrixDisplay.from_estimator.\n",
      "  warnings.warn(msg, category=FutureWarning)\n"
     ]
    },
    {
     "data": {
      "image/png": "[encoded data removed]",
      "text/plain": [
       "<Figure size 432x288 with 2 Axes>"
      ]
     },
     "metadata": {},
     "output_type": "display_data"
    }
   ],
   "source": [
    "plot_conf_mat(test_xgb, # The classifier object\n",
    "              testData, # The test data set aside for evaluation in train_test_split\n",
    "              testLabels # Actual labels\n",
    "             )"
   ]
  },
  {
   "cell_type": "code",
   "execution_count": null,
   "id": "93603bca",
   "metadata": {},
   "outputs": [],
   "source": [
    "positiveProbabilities = predictedProbabilities[:,1]\n",
    "plot_roc_curve(testLabels, # Actual labels\n",
    "               positiveProbabilities, # Prediction scores for the positive class\n",
    "               pos_label = 1 # Indicate the label that corresponds to the positive class\n",
    "              )"
   ]
  },
  {
   "cell_type": "markdown",
   "id": "873b71f1",
   "metadata": {},
   "source": [
    "#### Hyperopt"
   ]
  },
  {
   "cell_type": "code",
   "execution_count": 227,
   "id": "4781d10b",
   "metadata": {},
   "outputs": [
    {
     "data": {
      "text/plain": [
       "<AxesSubplot:title={'center':'Feature importance'}, xlabel='F score', ylabel='Features'>"
      ]
     },
     "execution_count": 227,
     "metadata": {},
     "output_type": "execute_result"
    },
    {
     "data": {
      "image/png": "[encoded data removed]",
      "text/plain": [
       "<Figure size 432x288 with 1 Axes>"
      ]
     },
     "metadata": {},
     "output_type": "display_data"
    }
   ],
   "source": [
    "plot_importance(test_xgb)"
   ]
  },
  {
   "cell_type": "code",
   "execution_count": 161,
   "id": "8ae0f6de",
   "metadata": {},
   "outputs": [],
   "source": [
    "# import packages for hyperparameters tuning\n",
    "from hyperopt import STATUS_OK, Trials, fmin, hp, tpe\n",
    "\n",
    "space={'max_depth': hp.quniform(\"max_depth\", 3, 18, 1),\n",
    "#         'gamma': hp.uniform ('gamma', 1,9),\n",
    "        'reg_alpha' : hp.quniform('reg_alpha', 40,180,1),\n",
    "#         'reg_lambda' : hp.uniform('reg_lambda', 0,1),\n",
    "#         'colsample_bytree' : hp.uniform('colsample_bytree', 0.5,1),\n",
    "#         'min_child_weight' : hp.quniform('min_child_weight', 0, 10, 1),\n",
    "        'n_estimators': hp.quniform('n_estimators', 100, 200, 20),\n",
    "        'eta': hp.uniform ('eta', 0.1,0.9),\n",
    "        'seed': 0,\n",
    "        'random_state': 1\n",
    "    }\n",
    "\n",
    "from sklearn.metrics import roc_auc_score\n",
    "\n",
    "def objective(space):\n",
    "    clf=XGBClassifier(\n",
    "        random_state = space['random_state'],\n",
    "        eta = space['eta'],\n",
    "        n_estimators = int(space['n_estimators']), \n",
    "        max_depth = int(space['max_depth']), \n",
    "#         gamma = space['gamma'],\n",
    "#         reg_alpha = int(space['reg_alpha']),\n",
    "#         min_child_weight=int(space['min_child_weight']),\n",
    "#         colsample_bytree=int(space['colsample_bytree'])\n",
    "    )\n",
    "    \n",
    "    evaluation = [( mf_trainData, trainLabels), ( mf_testData, testLabels)]\n",
    "    \n",
    "    clf.fit(mf_trainData, trainLabels,\n",
    "            eval_set=evaluation, eval_metric=\"auc\",\n",
    "            early_stopping_rounds=10,verbose=False)\n",
    "    \n",
    "\n",
    "    pred = clf.predict(mf_testData)\n",
    "    accuracy = roc_auc_score(testLabels, pred>0.5)\n",
    "    print (\"SCORE:\", accuracy)\n",
    "    return {'loss': -accuracy, 'status': STATUS_OK }"
   ]
  },
  {
   "cell_type": "code",
   "execution_count": 162,
   "id": "8ee77ff9",
   "metadata": {},
   "outputs": [],
   "source": [
    "%%capture\n",
    "\n",
    "trials = Trials()\n",
    "\n",
    "best_hyperparams = fmin(fn = objective,\n",
    "                        space = space,\n",
    "                        algo = tpe.suggest,\n",
    "                        max_evals = 300,\n",
    "                        trials = trials)"
   ]
  },
  {
   "cell_type": "code",
   "execution_count": 163,
   "id": "436d7a5a",
   "metadata": {},
   "outputs": [
    {
     "name": "stdout",
     "output_type": "stream",
     "text": [
      "The best hyperparameters are :  \n",
      "\n",
      "{'eta': 0.5599352485569663, 'max_depth': 6.0, 'n_estimators': 120.0, 'reg_alpha': 116.0}\n"
     ]
    }
   ],
   "source": [
    "print(\"The best hyperparameters are : \",\"\\n\")\n",
    "print(best_hyperparams)"
   ]
  },
  {
   "cell_type": "code",
   "execution_count": 186,
   "id": "cc9d48b6",
   "metadata": {},
   "outputs": [
    {
     "data": {
      "text/plain": [
       "XGBClassifier(base_score=None, booster=None, callbacks=None,\n",
       "              colsample_bylevel=None, colsample_bynode=None,\n",
       "              colsample_bytree=None, early_stopping_rounds=None,\n",
       "              enable_categorical=False, eta=0.5599352485569663,\n",
       "              eval_metric=None, feature_types=None, gamma=None, gpu_id=None,\n",
       "              grow_policy=None, importance_type=None,\n",
       "              interaction_constraints=None, learning_rate=None, max_bin=None,\n",
       "              max_cat_threshold=None, max_cat_to_onehot=None,\n",
       "              max_delta_step=None, max_depth=6, max_leaves=None,\n",
       "              min_child_weight=None, missing=nan, monotone_constraints=None,\n",
       "              n_estimators=120, n_jobs=None, num_parallel_tree=None,\n",
       "              predictor=None, ...)"
      ]
     },
     "execution_count": 186,
     "metadata": {},
     "output_type": "execute_result"
    }
   ],
   "source": [
    "best_hyperparams = {'max_depth': 6, 'reg_alpha': 116.0, \n",
    "                    'n_estimators': 120, 'eta': 0.5599352485569663}\n",
    "\n",
    "best_xgb = XGBClassifier(**best_hyperparams, random_state=1)\n",
    "best_xgb.fit(mf_trainData, trainLabels)"
   ]
  },
  {
   "cell_type": "code",
   "execution_count": 187,
   "id": "050afaca",
   "metadata": {},
   "outputs": [
    {
     "name": "stdout",
     "output_type": "stream",
     "text": [
      "Accuracy: 65.82\n",
      "PrecisionNegative: 71.99\n",
      "PrecisionPositive: 62.40\n",
      "RecallNegative: 51.45\n",
      "RecallPositive: 80.10\n",
      "AUC Score: 71.97\n",
      "\n"
     ]
    }
   ],
   "source": [
    "predictedProbabilities = best_xgb.predict_proba(mf_testData)\n",
    "predictedLabels = best_xgb.predict(mf_testData) \n",
    "calculateMetricsAndPrint(predictedLabels, predictedProbabilities, testLabels)"
   ]
  },
  {
   "cell_type": "code",
   "execution_count": null,
   "id": "cec7e936",
   "metadata": {},
   "outputs": [],
   "source": [
    "summarize_dataframe(df_clean)"
   ]
  },
  {
   "cell_type": "markdown",
   "id": "35b134c4",
   "metadata": {},
   "source": [
    "#### RandomForest Grid Search"
   ]
  },
  {
   "cell_type": "code",
   "execution_count": null,
   "id": "9d7ec808",
   "metadata": {},
   "outputs": [],
   "source": [
    "%%time\n",
    "%%capture --no-display\n",
    "\n",
    "from sklearn.model_selection import GridSearchCV\n",
    "\n",
    "rf = RandomForestClassifier(random_state=1)\n",
    "param_grid = {'max_depth': [10, 12, 14],  \n",
    "              'n_estimators': [100,150], \n",
    "              'max_features' : [7],\n",
    "              'random_state' : [6]}\n",
    "\n",
    "scorer = make_scorer(recall_score, pos_label=1) # We are optimizing based on recall of 'yes' class (original pos_label=1)\n",
    "\n",
    "search = GridSearchCV(rf, param_grid, scoring = scorer, cv=5\n",
    "                     , verbose=3)\n",
    "grid = search.fit(trainData, trainLabels)"
   ]
  },
  {
   "cell_type": "code",
   "execution_count": null,
   "id": "7eda251e",
   "metadata": {},
   "outputs": [],
   "source": [
    "# Predict on test data\n",
    "predictions = grid.best_estimator_.predict(testData) # This will give binary labels e.g 0/1\n",
    "predictionProbabilities = grid.best_estimator_.predict_proba(testData) # This will give prediction probabilities for both labels e.g [0.3, 0.7] meaning 0.3 probability for 'no' and 0.7 for 'yes'.\n",
    "\n",
    "# Calculate metrics on test set and display them\n",
    "calculateMetricsAndPrint(predictions, predictionProbabilities, testLabels)"
   ]
  },
  {
   "cell_type": "code",
   "execution_count": null,
   "id": "92dbe098",
   "metadata": {},
   "outputs": [],
   "source": [
    "#Generate confusion matrices for the different models' training fit\n",
    "#non-weighted model\n",
    "confusionMatrix = None\n",
    "confusionMatrix = confusion_matrix(testLabels, predictions)\n",
    "\n",
    "## confusion matrix\n",
    "plt.rcParams['figure.figsize'] = [5, 5] ## plot size\n",
    "displayConfusionMatrix(confusionMatrix)\n",
    "plt.title(\"Model\", fontsize=PLOT_FONT_SIZE)\n",
    "plt.show()"
   ]
  },
  {
   "cell_type": "markdown",
   "id": "f509270a",
   "metadata": {},
   "source": [
    "#### SVM Search"
   ]
  },
  {
   "cell_type": "code",
   "execution_count": null,
   "id": "5565411b",
   "metadata": {},
   "outputs": [],
   "source": [
    "%%time\n",
    "\n",
    "from sklearn import svm\n",
    "from sklearn.preprocessing import StandardScaler\n",
    "from sklearn.pipeline import make_pipeline\n",
    "\n",
    "sv = make_pipeline(StandardScaler(), \n",
    "                   svm.SVC(gamma='auto', probability = True))\n",
    "\n",
    "sv.fit(trainData, trainLabels)"
   ]
  },
  {
   "cell_type": "code",
   "execution_count": null,
   "id": "803739cc",
   "metadata": {},
   "outputs": [],
   "source": [
    "# Predict on test data\n",
    "predictions = sv.predict(testData) # This will give binary labels e.g 0/1\n",
    "predictionProbabilities = sv.predict_proba(testData) # This will give prediction probabilities for both labels e.g [0.3, 0.7] meaning 0.3 probability for 'no' and 0.7 for 'yes'.\n",
    "\n",
    "# Calculate metrics on test set and display them\n",
    "calculateMetricsAndPrint(predictions, predictionProbabilities, testLabels)\n"
   ]
  },
  {
   "cell_type": "code",
   "execution_count": null,
   "id": "8bb143b1",
   "metadata": {},
   "outputs": [],
   "source": [
    "#Generate confusion matrices for the different models' training fit\n",
    "#non-weighted model\n",
    "confusionMatrix = None\n",
    "confusionMatrix = confusion_matrix(testLabels, predictions)\n",
    "\n",
    "## confusion matrix\n",
    "plt.rcParams['figure.figsize'] = [5, 5] ## plot size\n",
    "displayConfusionMatrix(confusionMatrix)\n",
    "plt.title(\"Model\", fontsize=PLOT_FONT_SIZE)\n",
    "plt.show()"
   ]
  },
  {
   "cell_type": "code",
   "execution_count": 106,
   "id": "3d718a35",
   "metadata": {},
   "outputs": [
    {
     "data": {
      "text/plain": [
       "<AxesSubplot:title={'center':'Feature importance'}, xlabel='F score', ylabel='Features'>"
      ]
     },
     "execution_count": 106,
     "metadata": {},
     "output_type": "execute_result"
    },
    {
     "data": {
      "image/png": "[encoded data removed]",
      "text/plain": [
       "<Figure size 432x288 with 1 Axes>"
      ]
     },
     "metadata": {},
     "output_type": "display_data"
    }
   ],
   "source": [
    "# plot feature importance\n",
    "plot_importance(test_xgb, importance_type = \"weight\",  max_num_features=15)"
   ]
  },
  {
   "cell_type": "code",
   "execution_count": null,
   "id": "d04f9284",
   "metadata": {},
   "outputs": [],
   "source": []
  },
  {
   "cell_type": "code",
   "execution_count": null,
   "id": "d59ad7ca",
   "metadata": {},
   "outputs": [],
   "source": []
  }
 ],
 "metadata": {
  "kernelspec": {
   "display_name": "Python 3 (ipykernel)",
   "language": "python",
   "name": "python3"
  },
  "language_info": {
   "codemirror_mode": {
    "name": "ipython",
    "version": 3
   },
   "file_extension": ".py",
   "mimetype": "text/x-python",
   "name": "python",
   "nbconvert_exporter": "python",
   "pygments_lexer": "ipython3",
   "version": "3.9.12"
  }
 },
 "nbformat": 4,
 "nbformat_minor": 5
}
